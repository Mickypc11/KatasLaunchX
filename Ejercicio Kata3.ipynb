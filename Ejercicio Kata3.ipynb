{
 "cells": [
  {
   "cell_type": "markdown",
   "metadata": {},
   "source": [
    "## Tip de práctica 1: Intenta ejecutarlo en un notebook."
   ]
  },
  {
   "cell_type": "code",
   "execution_count": null,
   "metadata": {},
   "outputs": [],
   "source": [
    "a = 97\n",
    "b = 55\n",
    "# test expression / expresión de prueba\n",
    "if a < b:\n",
    "    # statement to be run / instrucción a ejecutar\n",
    "    print(b)"
   ]
  },
  {
   "cell_type": "markdown",
   "metadata": {},
   "source": [
    "## Tip de práctica 2:"
   ]
  },
  {
   "cell_type": "code",
   "execution_count": null,
   "metadata": {},
   "outputs": [],
   "source": [
    "# Aplica el tip de práctica 1.\n",
    "a = 93\n",
    "b = 27\n",
    "if a >= b:\n",
    "    print(\"El resultado de la comparacion es: \" , a)"
   ]
  },
  {
   "cell_type": "markdown",
   "metadata": {},
   "source": [
    "## Ejercicio 1 - Declaraciones If, else, elif"
   ]
  },
  {
   "cell_type": "code",
   "execution_count": 7,
   "metadata": {},
   "outputs": [
    {
     "name": "stdout",
     "output_type": "stream",
     "text": [
      "Estamos perdidos ciudadanos\n"
     ]
    }
   ],
   "source": [
    "Velocidad = 49\n",
    "if Velocidad > 25:\n",
    "    print(\"Estamos perdidos ciudadanos\")\n",
    "else:\n",
    "    print(\"No hay peligro ciudadanos\")\n"
   ]
  },
  {
   "cell_type": "markdown",
   "metadata": {},
   "source": [
    "## Ejercicio 2"
   ]
  },
  {
   "cell_type": "code",
   "execution_count": 11,
   "metadata": {},
   "outputs": [
    {
     "name": "stdout",
     "output_type": "stream",
     "text": [
      "Damas y caballeros sigan con su vida diaria\n"
     ]
    }
   ],
   "source": [
    "Velocidad = 19\n",
    "if Velocidad > 20:\n",
    "    print(\"Ciudadanos miren la bella luz que se refleja en los cielos\")\n",
    "elif Velocidad == 20:\n",
    "    print(\"Ciudadanos miren la bella luz que se refleja en los cielos\")\n",
    "else:\n",
    "    print(\"Damas y caballeros sigan con su vida diaria\")"
   ]
  },
  {
   "cell_type": "markdown",
   "metadata": {},
   "source": [
    "## Ejercicio 3 - Uso de Operadores And y Or"
   ]
  },
  {
   "cell_type": "code",
   "execution_count": 13,
   "metadata": {},
   "outputs": [
    {
     "name": "stdout",
     "output_type": "stream",
     "text": [
      " Damas y caballeros en terminos de peligro.... Corremos un gran peligro\n"
     ]
    }
   ],
   "source": [
    "Velocidad=35\n",
    "Dimension=30\n",
    "if Dimension > 25 and Velocidad > 25:\n",
    "    print(\" Damas y caballeros en terminos de peligro.... Corremos un gran peligro\")\n",
    "elif Velocidad >= 20:\n",
    "    print(\"Ciudadanos miren la bella luz que se refleja en los cielos\")\n",
    "elif Dimension < 25 :\n",
    "    print(\" Tranquilos todos, yo nervioso, favor de seguir con su dia a dia\")\n",
    "else:\n",
    "    print(\" Tranquilos todos, yo nervioso, favor de seguir con su dia a dia\")"
   ]
  }
 ],
 "metadata": {
  "interpreter": {
   "hash": "56b99e5fdf46ac1bca3d5a03fc6bc6df593e2e49821c09588f10e6b3c18a79df"
  },
  "kernelspec": {
   "display_name": "Python 3.10.2 ('env': venv)",
   "language": "python",
   "name": "python3"
  },
  "language_info": {
   "codemirror_mode": {
    "name": "ipython",
    "version": 3
   },
   "file_extension": ".py",
   "mimetype": "text/x-python",
   "name": "python",
   "nbconvert_exporter": "python",
   "pygments_lexer": "ipython3",
   "version": "3.10.2"
  },
  "orig_nbformat": 4
 },
 "nbformat": 4,
 "nbformat_minor": 2
}
